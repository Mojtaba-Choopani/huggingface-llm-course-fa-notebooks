{
  "cells": [
    {
      "cell_type": "markdown",
      "metadata": {
        "id": "view-in-github",
        "colab_type": "text"
      },
      "source": [
        "<a href=\"https://colab.research.google.com/github/Mojtaba-Choopani/huggingface-llm-course-fa-notebooks/blob/main/chapter1-transformer-models/section1-what-can-transformers-do.ipynb\" target=\"_parent\"><img src=\"https://colab.research.google.com/assets/colab-badge.svg\" alt=\"Open In Colab\"/></a>"
      ]
    },
    {
      "cell_type": "markdown",
      "source": [
        "<h1 dir=\"rtl\" style=\"text-align: right; color: #2c3e50; font-family: Tahoma;\">\n",
        "مدل‌های ترنسفورمر، چه قابلیت‌هایی دارند؟\n",
        "</h1>\n"
      ],
      "metadata": {
        "id": "XI9KrkgHQWiY"
      }
    },
    {
      "cell_type": "markdown",
      "source": [
        "<div dir=\"rtl\">\n",
        "\n",
        "در این بخش با توانایی‌های مدل‌های ترنسفورمر آشنا می‌شویم و از اولین ابزار مهم کتابخانه  Transformers یعنی تابع `pipeline()` استفاده می‌کنیم.\n",
        "\n",
        "کتابخانه Transformers امکاناتی برای استفاده و ساخت مدل‌های زبانی از پیش‌آموزش‌دیده را فراهم می‌کند. «هاب مدل» میلیون‌ها مدل آماده دارد که می‌توان آن‌ها را دانلود یا مدل‌های شخصی خود را در آن بارگذاری کرد.\n",
        "\n",
        "- استفاده از pipeline:\n",
        "تابع `pipeline()` ساده‌ترین و مهم‌ترین ابزار در کتابخانه Transformers است. این تابع مدل را با مراحل پیش‌پردازش و پس‌پردازش لازم ترکیب می‌کند تا بتوانیم مستقیم متنی را وارد کنیم و یک پاسخ قابل‌فهم دریافت کنیم.\n",
        "\n",
        "</div>\n"
      ],
      "metadata": {
        "id": "aVbwrC1ZsQxN"
      }
    },
    {
      "cell_type": "markdown",
      "source": [
        "<div dir=\"rtl\">\n",
        "\n",
        "\n",
        "\n",
        "دستور زیر سه ابزار کلیدی از Hugging Face را نصب می‌کند که برای پروژه‌های پردازش زبان طبیعی (NLP) بسیار کاربردی هستند:\n",
        "\n",
        "- **`datasets`**: برای دسترسی آسان به دیتاست‌های متنوع و آماده‌ی NLP  \n",
        "- **`evaluate`**: برای محاسبه معیارهای ارزیابی مدل‌ها مانند accuracy و F1-score  \n",
        "- **`transformers[sentencepiece]`**: برای استفاده از مدل‌های زبانی پیشرفته مانند BERT و GPT به همراه پشتیبانی از توکن‌سازی پیشرفته (SentencePiece)\n",
        "\n",
        "</div>\n"
      ],
      "metadata": {
        "id": "vDgdJ2hhrtY4"
      }
    },
    {
      "cell_type": "code",
      "execution_count": null,
      "metadata": {
        "id": "fNyhCA3dKRW4"
      },
      "outputs": [],
      "source": [
        "!pip install datasets evaluate transformers[sentencepiece]"
      ]
    },
    {
      "cell_type": "markdown",
      "source": [
        "<div dir=\"rtl\">\n",
        "\n",
        "اسکریپت  زیر یک پایپ‌لاین آماده‌ی تحلیل احساس (Sentiment Analysis) از کتابخانه  Transformers می‌سازد و آن را در متغیری به نام `classifier` ذخیره می‌کند.\n",
        "\n",
        "</div>\n"
      ],
      "metadata": {
        "id": "wh2tyvXmwHRp"
      }
    },
    {
      "cell_type": "code",
      "execution_count": null,
      "metadata": {
        "id": "xi9QUTHHKRW6"
      },
      "outputs": [],
      "source": [
        "from transformers import pipeline\n",
        "\n",
        "classifier = pipeline(\"sentiment-analysis\")\n",
        "classifier(\"I've been waiting for a HuggingFace course my whole life.\")"
      ]
    },
    {
      "cell_type": "code",
      "execution_count": 7,
      "metadata": {
        "id": "YGW1WlGiKRW8",
        "outputId": "ca741db2-88f1-47a8-de67-85369e4fda3b",
        "colab": {
          "base_uri": "https://localhost:8080/"
        }
      },
      "outputs": [
        {
          "output_type": "execute_result",
          "data": {
            "text/plain": [
              "[{'label': 'POSITIVE', 'score': 0.9598049521446228},\n",
              " {'label': 'NEGATIVE', 'score': 0.9994558691978455}]"
            ]
          },
          "metadata": {},
          "execution_count": 7
        }
      ],
      "source": [
        "classifier(\n",
        "    [\"I've been waiting for a HuggingFace course my whole life.\", \"I hate this so much!\"]\n",
        ")"
      ]
    },
    {
      "cell_type": "markdown",
      "source": [
        "<div dir=\"rtl\">\n",
        "\n",
        "**تحلیل احساس با pipeline**\n",
        "\n",
        "به‌صورت پیش‌فرض، تابع `pipeline()` یک مدل از پیش‌آموزش‌دیده‌ی مخصوص تحلیل احساسات انگلیسی را بارگذاری می‌کند.  \n",
        "مدل فقط بار اول دانلود می‌شود و دفعات بعد از حافظه کش استفاده می‌گردد.\n",
        "\n",
        "-  مراحل انجام تحلیل احساسات:\n",
        "1. متن ورودی پیش‌پردازش می‌شود تا مدل بتواند آن را درک کند.\n",
        "2. ورودی پیش‌پردازش‌شده به مدل داده می‌شود.\n",
        "3. خروجی مدل پس‌پردازش می‌شود تا برای کاربر قابل‌فهم شود.\n",
        "\n",
        "---\n",
        "\n",
        "-  انواع pipeline‌ های پشتیبانی‌شده\n",
        "\n",
        "-  متنی (Text):\n",
        "- `text-generation`: تولید متن از روی یک پیام\n",
        "- `text-classification`: دسته‌بندی متن\n",
        "- `summarization`: خلاصه‌سازی متن\n",
        "- `translation`: ترجمه زبان‌ها\n",
        "- `zero-shot-classification`: دسته‌بندی بدون نیاز به آموزش قبلی\n",
        "- `feature-extraction`: استخراج بردارهای معنایی از متن\n",
        "\n",
        "-  تصویری (Image):\n",
        "- `image-to-text`: توصیف تصویر با متن\n",
        "- `image-classification`: تشخیص اشیاء در تصویر\n",
        "- `object-detection`: شناسایی موقعیت اشیاء در تصویر\n",
        "\n",
        "-  صوتی (Audio):\n",
        "- `automatic-speech-recognition`: تبدیل گفتار به متن\n",
        "- `audio-classification`: دسته‌بندی صوت\n",
        "- `text-to-speech`: تبدیل متن به گفتار\n",
        "\n",
        "-  چندحالتی (Multimodal):\n",
        "- `image-text-to-text`: پاسخ به تصویر با توجه به یک متن ورودی\n",
        "\n",
        "</div>\n"
      ],
      "metadata": {
        "id": "U1tlXXrY3Vbj"
      }
    },
    {
      "cell_type": "markdown",
      "source": [
        "<div dir=\"rtl\">\n",
        "\n",
        "  **دسته‌بندی بدون آموزش (Zero-shot Classification)**\n",
        "\n",
        "در این روش، متنی را دسته‌بندی می‌کنیم که برچسب‌گذاری (labeling) نشده است. این یک چالش رایج در پروژه‌های واقعی است، چون برچسب‌گذاری دستی بسیار زمان‌بر بوده و به تخصص نیاز دارد.\n",
        "\n",
        "پایپ‌لاین `zero-shot-classification` این مشکل را حل می‌کند:  \n",
        "با این روش می‌توانیم **لیست برچسب‌ها (labels)** را خودمان مشخص کنیم، بدون نیاز به برچسب‌های از پیش تعیین‌شده مدل.\n",
        "\n",
        "مثلاً مدل فقط برای «مثبت» و «منفی» آموزش دیده، اما با zero-shot می‌توان از آن خواست که جمله‌ای را بین برچسب‌های دلخواه مثل «ورزشی»، «علمی» یا «احساسی» دسته‌بندی کند.\n",
        "\n",
        "</div>\n"
      ],
      "metadata": {
        "id": "HAwzFkXJ5Kyy"
      }
    },
    {
      "cell_type": "code",
      "execution_count": null,
      "metadata": {
        "id": "8PbLXhN5KRW9"
      },
      "outputs": [],
      "source": [
        "from transformers import pipeline\n",
        "\n",
        "classifier = pipeline(\"zero-shot-classification\")\n",
        "classifier(\n",
        "    \"This is a course about the Transformers library\",\n",
        "    candidate_labels=[\"education\", \"politics\", \"business\"],\n",
        ")"
      ]
    },
    {
      "cell_type": "code",
      "execution_count": null,
      "metadata": {
        "id": "JWbzbhLSKRW_",
        "outputId": "61447107-815c-4ce6-968c-5fc47378882f"
      },
      "outputs": [
        {
          "data": {
            "text/plain": [
              "[{'generated_text': 'In this course, we will teach you how to understand and use '\n",
              "                    'data flow and data interchange when handling user data. We '\n",
              "                    'will be working with one or more of the most commonly used '\n",
              "                    'data flows — data flows of various types, as seen by the '\n",
              "                    'HTTP'}]"
            ]
          },
          "execution_count": null,
          "metadata": {},
          "output_type": "execute_result"
        }
      ],
      "source": [
        "from transformers import pipeline\n",
        "\n",
        "generator = pipeline(\"text-generation\")\n",
        "generator(\"In this course, we will teach you how to\")"
      ]
    },
    {
      "cell_type": "code",
      "execution_count": null,
      "metadata": {
        "id": "jCEqgT8fKRXA",
        "outputId": "e5029a0b-abef-40b8-f97e-ad7f94231430"
      },
      "outputs": [
        {
          "data": {
            "text/plain": [
              "[{'generated_text': 'In this course, we will teach you how to manipulate the world and '\n",
              "                    'move your mental and physical capabilities to your advantage.'},\n",
              " {'generated_text': 'In this course, we will teach you how to become an expert and '\n",
              "                    'practice realtime, and with a hands on experience on both real '\n",
              "                    'time and real'}]"
            ]
          },
          "execution_count": null,
          "metadata": {},
          "output_type": "execute_result"
        }
      ],
      "source": [
        "from transformers import pipeline\n",
        "\n",
        "generator = pipeline(\"text-generation\", model=\"distilgpt2\")\n",
        "generator(\n",
        "    \"In this course, we will teach you how to\",\n",
        "    max_length=30,\n",
        "    num_return_sequences=2,\n",
        ")"
      ]
    },
    {
      "cell_type": "code",
      "execution_count": null,
      "metadata": {
        "id": "7mTXX0p1KRXC",
        "outputId": "665cdb3b-de5d-4089-9f06-a7fe56ab0dac"
      },
      "outputs": [
        {
          "data": {
            "text/plain": [
              "[{'sequence': 'This course will teach you all about mathematical models.',\n",
              "  'score': 0.19619831442832947,\n",
              "  'token': 30412,\n",
              "  'token_str': ' mathematical'},\n",
              " {'sequence': 'This course will teach you all about computational models.',\n",
              "  'score': 0.04052725434303284,\n",
              "  'token': 38163,\n",
              "  'token_str': ' computational'}]"
            ]
          },
          "execution_count": null,
          "metadata": {},
          "output_type": "execute_result"
        }
      ],
      "source": [
        "from transformers import pipeline\n",
        "\n",
        "unmasker = pipeline(\"fill-mask\")\n",
        "unmasker(\"This course will teach you all about <mask> models.\", top_k=2)"
      ]
    },
    {
      "cell_type": "code",
      "execution_count": null,
      "metadata": {
        "id": "cYLQkFhaKRXD",
        "outputId": "d6471245-44b5-4254-bfa3-f7e289835605"
      },
      "outputs": [
        {
          "data": {
            "text/plain": [
              "[{'entity_group': 'PER', 'score': 0.99816, 'word': 'Sylvain', 'start': 11, 'end': 18}, \n",
              " {'entity_group': 'ORG', 'score': 0.97960, 'word': 'Hugging Face', 'start': 33, 'end': 45}, \n",
              " {'entity_group': 'LOC', 'score': 0.99321, 'word': 'Brooklyn', 'start': 49, 'end': 57}\n",
              "]"
            ]
          },
          "execution_count": null,
          "metadata": {},
          "output_type": "execute_result"
        }
      ],
      "source": [
        "from transformers import pipeline\n",
        "\n",
        "ner = pipeline(\"ner\", grouped_entities=True)\n",
        "ner(\"My name is Sylvain and I work at Hugging Face in Brooklyn.\")"
      ]
    },
    {
      "cell_type": "code",
      "execution_count": null,
      "metadata": {
        "id": "rYQSpIiFKRXD",
        "outputId": "ee7b53c5-7c93-46fc-eda3-642be1c5f3ee"
      },
      "outputs": [
        {
          "data": {
            "text/plain": [
              "{'score': 0.6385916471481323, 'start': 33, 'end': 45, 'answer': 'Hugging Face'}"
            ]
          },
          "execution_count": null,
          "metadata": {},
          "output_type": "execute_result"
        }
      ],
      "source": [
        "from transformers import pipeline\n",
        "\n",
        "question_answerer = pipeline(\"question-answering\")\n",
        "question_answerer(\n",
        "    question=\"Where do I work?\",\n",
        "    context=\"My name is Sylvain and I work at Hugging Face in Brooklyn\",\n",
        ")"
      ]
    },
    {
      "cell_type": "code",
      "execution_count": null,
      "metadata": {
        "id": "xn7RkYZ3KRXD",
        "outputId": "a2813d41-994e-47de-edec-5ef359c3a772"
      },
      "outputs": [
        {
          "data": {
            "text/plain": [
              "[{'summary_text': ' America has changed dramatically during recent years . The '\n",
              "                  'number of engineering graduates in the U.S. has declined in '\n",
              "                  'traditional engineering disciplines such as mechanical, civil '\n",
              "                  ', electrical, chemical, and aeronautical engineering . Rapidly '\n",
              "                  'developing economies such as China and India, as well as other '\n",
              "                  'industrial countries in Europe and Asia, continue to encourage '\n",
              "                  'and advance engineering .'}]"
            ]
          },
          "execution_count": null,
          "metadata": {},
          "output_type": "execute_result"
        }
      ],
      "source": [
        "from transformers import pipeline\n",
        "\n",
        "summarizer = pipeline(\"summarization\")\n",
        "summarizer(\n",
        "    \"\"\"\n",
        "    America has changed dramatically during recent years. Not only has the number of\n",
        "    graduates in traditional engineering disciplines such as mechanical, civil,\n",
        "    electrical, chemical, and aeronautical engineering declined, but in most of\n",
        "    the premier American universities engineering curricula now concentrate on\n",
        "    and encourage largely the study of engineering science. As a result, there\n",
        "    are declining offerings in engineering subjects dealing with infrastructure,\n",
        "    the environment, and related issues, and greater concentration on high\n",
        "    technology subjects, largely supporting increasingly complex scientific\n",
        "    developments. While the latter is important, it should not be at the expense\n",
        "    of more traditional engineering.\n",
        "\n",
        "    Rapidly developing economies such as China and India, as well as other\n",
        "    industrial countries in Europe and Asia, continue to encourage and advance\n",
        "    the teaching of engineering. Both China and India, respectively, graduate\n",
        "    six and eight times as many traditional engineers as does the United States.\n",
        "    Other industrial countries at minimum maintain their output, while America\n",
        "    suffers an increasingly serious decline in the number of engineering graduates\n",
        "    and a lack of well-educated engineers.\n",
        "\"\"\"\n",
        ")"
      ]
    },
    {
      "cell_type": "code",
      "execution_count": null,
      "metadata": {
        "id": "wk8ATrJSKRXE",
        "outputId": "b3132317-c81c-4f8b-ed81-b57862906638"
      },
      "outputs": [
        {
          "data": {
            "text/plain": [
              "[{'translation_text': 'This course is produced by Hugging Face.'}]"
            ]
          },
          "execution_count": null,
          "metadata": {},
          "output_type": "execute_result"
        }
      ],
      "source": [
        "from transformers import pipeline\n",
        "\n",
        "translator = pipeline(\"translation\", model=\"Helsinki-NLP/opus-mt-fr-en\")\n",
        "translator(\"Ce cours est produit par Hugging Face.\")"
      ]
    }
  ],
  "metadata": {
    "colab": {
      "name": "Transformers, what can they do?",
      "provenance": [],
      "include_colab_link": true
    },
    "language_info": {
      "name": "python"
    },
    "kernelspec": {
      "name": "python3",
      "display_name": "Python 3"
    }
  },
  "nbformat": 4,
  "nbformat_minor": 0
}