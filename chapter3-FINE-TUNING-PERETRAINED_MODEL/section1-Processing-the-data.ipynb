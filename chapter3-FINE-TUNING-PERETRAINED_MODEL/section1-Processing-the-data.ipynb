{
  "cells": [
    {
      "cell_type": "markdown",
      "metadata": {
        "id": "view-in-github",
        "colab_type": "text"
      },
      "source": [
        "<a href=\"https://colab.research.google.com/github/Mojtaba-Choopani/huggingface-llm-course-fa-notebooks/blob/main/chapter3-FINE-TUNING-PERETRAINED_MODEL/section1-Processing-the-data.ipynb\" target=\"_parent\"><img src=\"https://colab.research.google.com/assets/colab-badge.svg\" alt=\"Open In Colab\"/></a>"
      ]
    },
    {
      "cell_type": "markdown",
      "metadata": {
        "id": "mdktaB-QKw3j"
      },
      "source": [
        "<div dir=\"rtl\">\n",
        "\n",
        "<b style=\"font-size: 24px;\"> پردازش داده‌ها </b>\n",
        "\n",
        "</div>\n",
        "\n",
        "# Processing the data (PyTorch)"
      ]
    },
    {
      "cell_type": "markdown",
      "metadata": {
        "id": "vJd6wBY3Kw3z"
      },
      "source": [
        "<div dir=\"rtl\"> <p> نحوه آموزش یک Sequence Classifier روی یک batch </p> </div>"
      ]
    },
    {
      "cell_type": "code",
      "execution_count": null,
      "metadata": {
        "id": "0UkdGEZSKw33"
      },
      "outputs": [],
      "source": [
        "!pip install datasets evaluate transformers[sentencepiece]"
      ]
    },
    {
      "cell_type": "code",
      "execution_count": null,
      "metadata": {
        "id": "zQ4H1XJKKw36"
      },
      "outputs": [],
      "source": [
        "import torch\n",
        "from transformers import AutoTokenizer, AutoModelForSequenceClassification\n",
        "from torch.optim import AdamW\n",
        "\n",
        "\n",
        "# Same as before\n",
        "checkpoint = \"bert-base-uncased\"\n",
        "tokenizer = AutoTokenizer.from_pretrained(checkpoint)\n",
        "model = AutoModelForSequenceClassification.from_pretrained(checkpoint)\n",
        "sequences = [\n",
        "    \"I've been waiting for a HuggingFace course my whole life.\",\n",
        "    \"This course is amazing!\",\n",
        "]\n",
        "batch = tokenizer(sequences, padding=True, truncation=True, return_tensors=\"pt\")\n",
        "\n",
        "# This is new\n",
        "batch[\"labels\"] = torch.tensor([1, 1])\n",
        "\n",
        "optimizer = AdamW(model.parameters())\n",
        "loss = model(**batch).loss\n",
        "loss.backward()\n",
        "optimizer.step()"
      ]
    },
    {
      "cell_type": "markdown",
      "source": [
        "<div dir=\"rtl\">\n",
        "  <p>\n",
        "    در این بخش از مجموعه داده <strong>MRPC</strong> استفاده می‌کنیم که شامل ۵۸۰۱ جفت جمله با برچسب هم‌معنی بودن یا نبودن است. این مجموعه کوچک است و برای آزمایش و آموزش مدل مناسب می‌باشد.\n",
        "  </p>\n",
        "</div>\n",
        "---"
      ],
      "metadata": {
        "id": "8WAAdzPgP22m"
      }
    },
    {
      "cell_type": "markdown",
      "source": [
        "<div dir=\"rtl\">\n",
        "  <p>\n",
        "    هاب Hugging Face علاوه بر مدل‌ها، شامل مجموعه داده‌های متنوع در زبان‌های مختلف نیز هست. در این بخش، تمرکز بر روی مجموعه داده <strong>MRPC</strong> است که یکی از ۱۰ مجموعه داده معیار <strong>GLUE</strong> برای ارزیابی عملکرد مدل‌های یادگیری ماشین در ۱۰ وظیفه دسته‌بندی متن می‌باشد. با کتابخانه 🤗 <strong>Datasets</strong> می‌توان به سادگی این مجموعه داده را دانلود و ذخیره محلی کرد.\n",
        "  </p>\n",
        "</div>\n"
      ],
      "metadata": {
        "id": "_2BGK7nSSNBJ"
      }
    },
    {
      "cell_type": "code",
      "execution_count": 43,
      "metadata": {
        "colab": {
          "base_uri": "https://localhost:8080/"
        },
        "id": "R3oCds4wKw38",
        "outputId": "ea056638-33ef-43ed-9323-6e0813c6164e"
      },
      "outputs": [
        {
          "output_type": "execute_result",
          "data": {
            "text/plain": [
              "DatasetDict({\n",
              "    train: Dataset({\n",
              "        features: ['sentence1', 'sentence2', 'label', 'idx'],\n",
              "        num_rows: 3668\n",
              "    })\n",
              "    validation: Dataset({\n",
              "        features: ['sentence1', 'sentence2', 'label', 'idx'],\n",
              "        num_rows: 408\n",
              "    })\n",
              "    test: Dataset({\n",
              "        features: ['sentence1', 'sentence2', 'label', 'idx'],\n",
              "        num_rows: 1725\n",
              "    })\n",
              "})"
            ]
          },
          "metadata": {},
          "execution_count": 43
        }
      ],
      "source": [
        "from datasets import load_dataset\n",
        "\n",
        "raw_datasets = load_dataset(\"glue\", \"mrpc\")\n",
        "raw_datasets"
      ]
    },
    {
      "cell_type": "markdown",
      "source": [
        "<div dir=\"rtl\"> <p> با اجرای دستور مربوطه، یک <strong>DatasetDict</strong> دریافت می‌کنیم که شامل سه بخش است: <em>training</em>، <em>validation</em> و <em>test</em>. هر بخش چند ستون دارد: <strong>sentence1</strong>، <strong>sentence2</strong>، <strong>label</strong> و <strong>idx</strong> و تعداد سطرها با تعداد جفت‌های جمله در هر بخش برابر است (مثلاً ۳,۶۶۸ جفت در <em>training</em>، ۴۰۸ در <em>validation</em> و ۱,۷۲۵ در <em>test</em>). </p> <p> این دستور مجموعه داده را دانلود و در حافظه محلی <code>~/.cache/huggingface/datasets</code> ذخیره می‌کند. می‌توان مسیر کش را با تنظیم متغیر محیطی <strong>HF_HOME</strong> تغییر داد. </p> <p> برای دسترسی به هر جفت جمله در <strong>raw_datasets</strong> می‌توان از اندیس‌گذاری مانند دیکشنری استفاده کرد. </p> </div>"
      ],
      "metadata": {
        "id": "r4QUMQ1gSud9"
      }
    },
    {
      "cell_type": "code",
      "execution_count": 44,
      "metadata": {
        "colab": {
          "base_uri": "https://localhost:8080/"
        },
        "id": "EwDpz5IGKw3-",
        "outputId": "8a3511ba-d610-4296-de3a-2c2273a7f173"
      },
      "outputs": [
        {
          "output_type": "execute_result",
          "data": {
            "text/plain": [
              "{'sentence1': 'Amrozi accused his brother , whom he called \" the witness \" , of deliberately distorting his evidence .',\n",
              " 'sentence2': 'Referring to him as only \" the witness \" , Amrozi accused his brother of deliberately distorting his evidence .',\n",
              " 'label': 1,\n",
              " 'idx': 0}"
            ]
          },
          "metadata": {},
          "execution_count": 44
        }
      ],
      "source": [
        "raw_train_dataset = raw_datasets[\"train\"]\n",
        "raw_train_dataset[0]"
      ]
    },
    {
      "cell_type": "markdown",
      "source": [
        "<div dir=\"rtl\">\n",
        "  <p>\n",
        "    می‌بینیم که برچسب‌ها (<strong>labels</strong>) قبلاً به صورت عددی هستند، بنابراین نیازی به پیش‌پردازش روی آن‌ها نداریم. برای فهمیدن این که هر عدد به کدام برچسب مربوط است، می‌توانیم ویژگی‌های <strong>raw_train_dataset</strong> را بررسی کنیم. این کار نوع هر ستون را به ما نشان می‌دهد.\n",
        "  </p>\n",
        "</div>\n"
      ],
      "metadata": {
        "id": "MJeeNYQjZoks"
      }
    },
    {
      "cell_type": "markdown",
      "source": [
        "<div dir=\"rtl\">\n",
        "    <p>\n",
        "    در پشت صحنه، ستون <strong>label</strong> از نوع <code>ClassLabel</code> است و نگاشت اعداد به نام برچسب‌ها در فولدر <strong>names</strong> ذخیره شده است.\n",
        "    عدد <strong>0</strong> به <code>not_equivalent</code> و عدد <strong>1</strong> به <code>equivalent</code> متناظر است.\n",
        "  </p>\n",
        "</div>\n"
      ],
      "metadata": {
        "id": "a2yZB23IaDDh"
      }
    },
    {
      "cell_type": "code",
      "execution_count": 45,
      "metadata": {
        "colab": {
          "base_uri": "https://localhost:8080/"
        },
        "id": "BWuTBGWPKw4F",
        "outputId": "54ad74cc-c6a8-4467-bc38-fef80abf7a2f"
      },
      "outputs": [
        {
          "output_type": "execute_result",
          "data": {
            "text/plain": [
              "{'sentence1': Value('string'),\n",
              " 'sentence2': Value('string'),\n",
              " 'label': ClassLabel(names=['not_equivalent', 'equivalent']),\n",
              " 'idx': Value('int32')}"
            ]
          },
          "metadata": {},
          "execution_count": 45
        }
      ],
      "source": [
        "raw_train_dataset.features"
      ]
    },
    {
      "cell_type": "markdown",
      "source": [
        "<div dir=\"rtl\">\n",
        "    \n",
        "  <b style=\"font-size: 18px;\"> آماده‌سازی داده‌ها</b>\n",
        "  \n",
        "     برای آماده‌سازی داده‌ها برای مدل، متن‌ها باید با توکنایزر به اعداد تبدیل شوند. این کار شامل توکنیزه کردن همه جمله‌های اول و دوم هر جفت جمله است.\n",
        "  </p>\n",
        "</div>\n"
      ],
      "metadata": {
        "id": "-unRSHbscAfw"
      }
    },
    {
      "cell_type": "code",
      "execution_count": 46,
      "metadata": {
        "id": "qFYty_u1Kw4J"
      },
      "outputs": [],
      "source": [
        "from transformers import AutoTokenizer\n",
        "\n",
        "checkpoint = \"bert-base-uncased\"\n",
        "tokenizer = AutoTokenizer.from_pretrained(checkpoint)\n",
        "tokenized_sentences_1 = tokenizer(raw_datasets[\"train\"][\"sentence1\"][:])\n",
        "tokenized_sentences_2 = tokenizer(raw_datasets[\"train\"][\"sentence2\"][:])"
      ]
    },
    {
      "cell_type": "markdown",
      "source": [
        "<div dir=\"rtl\">\n",
        "  <p>\n",
        "    برای پیش‌بینی اینکه دو جمله هم معنی هستند یا نه، نمی‌توانیم فقط دو جمله را جداگانه به مدل بدهیم. باید جفت جملات را به صورت یک ورودی واحد پردازش کنیم و توکنایزر می‌تواند این کار را مطابق انتظار مدل BERT انجام دهد.\n",
        "  </p>\n",
        "</div>\n"
      ],
      "metadata": {
        "id": "dIM0Z2UPesFi"
      }
    },
    {
      "cell_type": "code",
      "execution_count": 47,
      "metadata": {
        "colab": {
          "base_uri": "https://localhost:8080/"
        },
        "id": "n4rGJUpRKw4L",
        "outputId": "5e1ce538-2192-4d98-aa1b-4ed0d3edd8ce"
      },
      "outputs": [
        {
          "output_type": "execute_result",
          "data": {
            "text/plain": [
              "{'input_ids': [101, 2023, 2003, 1996, 2034, 6251, 1012, 102, 2023, 2003, 1996, 2117, 2028, 1012, 102], 'token_type_ids': [0, 0, 0, 0, 0, 0, 0, 0, 1, 1, 1, 1, 1, 1, 1], 'attention_mask': [1, 1, 1, 1, 1, 1, 1, 1, 1, 1, 1, 1, 1, 1, 1]}"
            ]
          },
          "metadata": {},
          "execution_count": 47
        }
      ],
      "source": [
        "inputs = tokenizer(\"This is the first sentence.\", \"This is the second one.\")\n",
        "inputs"
      ]
    },
    {
      "cell_type": "markdown",
      "source": [
        "<div dir=\"rtl\">\n",
        "  <p>\n",
        "    اگر مقادیر داخل <code>input_ids</code> را دوباره به کلمات تبدیل کنیم (decode کنیم):\n",
        "  </p>\n",
        "</div>\n"
      ],
      "metadata": {
        "id": "g9Bo_TQKfTFw"
      }
    },
    {
      "cell_type": "code",
      "execution_count": 48,
      "metadata": {
        "colab": {
          "base_uri": "https://localhost:8080/"
        },
        "id": "uc5Hfs7-Kw4R",
        "outputId": "efdd3547-226d-4735-967f-459bc0623327"
      },
      "outputs": [
        {
          "output_type": "execute_result",
          "data": {
            "text/plain": [
              "['[CLS]',\n",
              " 'this',\n",
              " 'is',\n",
              " 'the',\n",
              " 'first',\n",
              " 'sentence',\n",
              " '.',\n",
              " '[SEP]',\n",
              " 'this',\n",
              " 'is',\n",
              " 'the',\n",
              " 'second',\n",
              " 'one',\n",
              " '.',\n",
              " '[SEP]']"
            ]
          },
          "metadata": {},
          "execution_count": 48
        }
      ],
      "source": [
        "tokenizer.convert_ids_to_tokens(inputs[\"input_ids\"])"
      ]
    },
    {
      "cell_type": "markdown",
      "source": [
        "<div dir=\"rtl\">\n",
        "  <p>\n",
        "    <code>token_type_ids</code> مشخص می‌کند کدام بخش از ورودی مربوط به جمله اول و کدام مربوط به جمله دوم است.\n",
        "  </p>\n",
        "  <p>\n",
        "    همه مدل‌ها این مقادیر را ندارند؛ فقط مدل‌هایی که در پیش‌آموزش آن‌ها استفاده شده‌اند، این اطلاعات را نیاز دارند (مثل BERT).\n",
        "  </p>\n",
        "  <p>\n",
        "    BERT علاوه بر مدلسازی زبان ماسک‌شده، وظیفه پیش‌بینی جمله بعدی هم دارد تا رابطه بین جفت جمله‌ها را یاد بگیرد.\n",
        "  </p>\n",
        "  <p>\n",
        "    برای استفاده معمولی، کافی است از همان checkpoint برای توکنیزر و مدل استفاده کنید تا همه چیز درست کار کند.\n",
        "  </p>\n",
        "</div>\n",
        "---"
      ],
      "metadata": {
        "id": "v4yY_RrcfzCe"
      }
    },
    {
      "cell_type": "markdown",
      "source": [
        "<div dir=\"rtl\">\n",
        "  <p>\n",
        "    حالا که می‌دانیم توکنایزر چگونه یک جفت جمله را پردازش می‌کند، می‌توانیم کل مجموعه داده را توکنیزه کنیم.\n",
        "  </p>\n",
        "  <p>\n",
        "    برای این کار، لیست جملات اول و لیست جملات دوم را به توکنایزر می‌دهیم.\n",
        "  </p>\n",
        "  <p>\n",
        "    این روش با گزینه‌های <code>padding</code> و <code>truncation</code> که در فصل ۲ دیدیم، سازگار است.\n",
        "  </p>\n",
        "  <p>\n",
        "    به این ترتیب، داده‌ها آماده ورودی مدل می‌شوند و پیش‌پردازش مجموعه آموزش انجام می‌شود.\n",
        "  </p>\n",
        "</div>\n"
      ],
      "metadata": {
        "id": "_Ky7zIHYgUbm"
      }
    },
    {
      "cell_type": "code",
      "execution_count": 49,
      "metadata": {
        "id": "77Kk_yWvKw4V"
      },
      "outputs": [],
      "source": [
        "tokenized_dataset = tokenizer(\n",
        "    raw_datasets[\"train\"][\"sentence1\"][:],\n",
        "    raw_datasets[\"train\"][\"sentence2\"][:],\n",
        "    padding=True,\n",
        "    truncation=True,\n",
        ")"
      ]
    },
    {
      "cell_type": "markdown",
      "source": [
        "<div dir=\"rtl\">\n",
        "  <p>\n",
        "    توکنیزه کردن همه داده‌ها همزمان حافظه زیادی نیاز دارد و خروجی‌اش یک دیکشنری از لیست‌هاست، نه یک <code>Dataset</code> قابل استفاده مستقیم.\n",
        "  </p>\n",
        "  <p>\n",
        "    برای حفظ ساختار <code>Dataset</code> و استفاده بهینه از حافظه، از <code>Dataset.map()</code> استفاده می‌کنیم.\n",
        "  </p>\n",
        "  <p>\n",
        "    این متد روی هر نمونه از مجموعه داده تابعی اعمال می‌کند، پس می‌توانیم یک تابع تعریف کنیم که توکنیزیشن و پیش‌پردازش دلخواه را انجام دهد.\n",
        "  </p>\n",
        "  <p>\n",
        "    با استفاده از این روش، داده‌ها به شکل مناسبی برای مدل آماده می‌شوند و مصرف حافظه بهینه باقی می‌ماند.\n",
        "\n",
        "   یک نمونه کد پایتون برای استفاده از Dataset.map() همراه با توکنایزر:\n",
        "\n",
        "  </p>\n",
        "</div>\n"
      ],
      "metadata": {
        "id": "RN0HWm5J1cml"
      }
    },
    {
      "cell_type": "code",
      "execution_count": 50,
      "metadata": {
        "id": "ugsHDkcsKw4W"
      },
      "outputs": [],
      "source": [
        "def tokenize_function(example):\n",
        "    return tokenizer(example[\"sentence1\"], example[\"sentence2\"], truncation=True)"
      ]
    },
    {
      "cell_type": "markdown",
      "source": [
        "<div dir=\"rtl\">\n",
        "  <p>\n",
        "    تابعی که تعریف می‌کنیم، یک دیکشنری از داده‌ها می‌گیرد و خروجی آن دیکشنری‌ای با کلیدهای <code>input_ids</code>، <code>attention_mask</code> و <code>token_type_ids</code> است.\n",
        "  </p>\n",
        "  <p>\n",
        "    این تابع می‌تواند روی چند نمونه به‌صورت هم‌زمان هم کار کند و به همین دلیل می‌توانیم در <code>Dataset.map()</code> از گزینه <code>batched=True</code> استفاده کنیم تا توکنیزه کردن سریع‌تر شود.\n",
        "  </p>\n",
        "  <p>\n",
        "    توکنیزر استفاده شده از کتابخانه 🤗 Tokenizers است که با زبان Rust نوشته شده و برای پردازش همزمان تعداد زیادی ورودی بسیار سریع است.\n",
        "  </p>\n",
        "  <p>\n",
        "    <strong>نکته:</strong> padding فعلاً در تابع اعمال نشده چون بهتر است هنگام ساختن batch انجام شود، نه برای کل مجموعه داده، تا مصرف حافظه و زمان کمتر شود.\n",
        "  </p>\n",
        "  <p>\n",
        "    در نهایت، با استفاده از <code>batched=True</code> می‌توانیم تابع را روی همه داده‌ها اعمال کنیم و پیش‌پردازش سریع‌تری داشته باشیم.\n",
        "  </p>\n",
        "</div>\n"
      ],
      "metadata": {
        "id": "c9vBpL9e2OjL"
      }
    },
    {
      "cell_type": "code",
      "execution_count": 51,
      "metadata": {
        "colab": {
          "base_uri": "https://localhost:8080/",
          "height": 292,
          "referenced_widgets": [
            "b7edc50b24014c77ae855b10f01e0de2",
            "7a850154e2074388b3d5651ef7004dec",
            "2dd390d8d4fa4aa18df68c3c6af8c288",
            "840e9a5fe90f4688b30a13411973108d",
            "fd424924477948fdb1ad933bda700457",
            "64af382dc74246a590b77916a8f0caf1",
            "003d2d36f2754659beeecb09ebdf69ae",
            "2005f5c39d3f4ea08d51d8a02ee2698a",
            "e1a3e70b573c43d9945be95ecf38f2e3",
            "04d8ead28383443d8a45829bc18d3b69",
            "af3512bf061a4af3aafea95685a1bb13"
          ]
        },
        "id": "tUBHvIW_Kw4Y",
        "outputId": "fc69b409-523f-46b2-8e72-fda6f085819f"
      },
      "outputs": [
        {
          "output_type": "display_data",
          "data": {
            "text/plain": [
              "Map:   0%|          | 0/408 [00:00<?, ? examples/s]"
            ],
            "application/vnd.jupyter.widget-view+json": {
              "version_major": 2,
              "version_minor": 0,
              "model_id": "b7edc50b24014c77ae855b10f01e0de2"
            }
          },
          "metadata": {}
        },
        {
          "output_type": "execute_result",
          "data": {
            "text/plain": [
              "DatasetDict({\n",
              "    train: Dataset({\n",
              "        features: ['sentence1', 'sentence2', 'label', 'idx', 'input_ids', 'token_type_ids', 'attention_mask'],\n",
              "        num_rows: 3668\n",
              "    })\n",
              "    validation: Dataset({\n",
              "        features: ['sentence1', 'sentence2', 'label', 'idx', 'input_ids', 'token_type_ids', 'attention_mask'],\n",
              "        num_rows: 408\n",
              "    })\n",
              "    test: Dataset({\n",
              "        features: ['sentence1', 'sentence2', 'label', 'idx', 'input_ids', 'token_type_ids', 'attention_mask'],\n",
              "        num_rows: 1725\n",
              "    })\n",
              "})"
            ]
          },
          "metadata": {},
          "execution_count": 51
        }
      ],
      "source": [
        "tokenized_datasets = raw_datasets.map(tokenize_function, batched=True)\n",
        "tokenized_datasets"
      ]
    },
    {
      "cell_type": "markdown",
      "source": [
        "<div dir=\"rtl\">\n",
        "  <p>\n",
        "    کتابخانه 🤗 Datasets هنگام اعمال پیش‌پردازش، داده‌های اصلی را تغییر نمی‌دهد، بلکه ستون‌های جدیدی به مجموعه داده اضافه می‌کند.\n",
        "  </p>\n",
        "  <p>\n",
        "    هر کلید خروجی از تابع پیش‌پردازش (مثل <code>input_ids</code>، <code>attention_mask</code> و <code>token_type_ids</code>) به یک ستون جداگانه در Dataset تبدیل می‌شود.\n",
        "  </p>\n",
        "</div>\n",
        "---"
      ],
      "metadata": {
        "id": "cv7j8I4d4bir"
      }
    },
    {
      "cell_type": "markdown",
      "source": [
        "<div dir=\"rtl\">\n",
        "  <p>\n",
        "    می‌توان از چندپردازشی (multiprocessing) هنگام استفاده از <code>map()</code> برای پیش‌پردازش استفاده کرد با پارامتر <code>num_proc</code>، اما اگر از توکنایزر سریع 🤗 استفاده می‌کنید، معمولاً لازم نیست چون خودش چند رشته‌ای کار می‌کند.\n",
        "  </p>\n",
        "  <p>\n",
        "    تابع <code>tokenize_function</code> یک دیکشنری با کلیدهای <code>input_ids</code>، <code>attention_mask</code> و <code>token_type_ids</code> برمی‌گرداند که به تمام بخش‌های مجموعه داده اضافه می‌شوند.\n",
        "  </p>\n",
        "  <p>\n",
        "    می‌توان مقادیر موجود در مجموعه داده را هم با همان کلیدها تغییر داد اگر تابع پیش‌پردازش مقدار جدید بدهد.\n",
        "  </p>\n",
        "  <p>\n",
        "    آخرین مرحله <strong>dynamic padding</strong> است: هنگام ایجاد batch، همه نمونه‌ها به طول طولانی‌ترین عنصر در آن batch پر می‌شوند تا مدل بتواند به صورت هم‌زمان پردازش کند.\n",
        "  </p>\n",
        "</div>\n"
      ],
      "metadata": {
        "id": "gh3Z-jNA4nfJ"
      }
    },
    {
      "cell_type": "markdown",
      "source": [
        "<div dir=\"rtl\">\n",
        "\n",
        "  <b style=\"font-size: 18px;\"> dynamic padding </b>\n",
        "  <p>\n",
        "    <strong>Collate function</strong>  نمونه‌ها را کنار هم در یک batch قرار می‌دهد. و برای ورودی‌هایی با طول متغیر، <strong>padding</strong> را به صورت دینامیک اعمال می‌کند تا آموزش سریع‌تر و بهینه‌تر انجام شود.\n",
        "  </p>\n",
        "</div>\n"
      ],
      "metadata": {
        "id": "VVFbRSb_6ZwK"
      }
    },
    {
      "cell_type": "code",
      "execution_count": 52,
      "metadata": {
        "id": "ybqqobbHKw4a"
      },
      "outputs": [],
      "source": [
        "from transformers import DataCollatorWithPadding\n",
        "\n",
        "data_collator = DataCollatorWithPadding(tokenizer=tokenizer)"
      ]
    },
    {
      "cell_type": "markdown",
      "source": [
        "<div dir=\"rtl\">\n",
        "  <p>\n",
        "    برای آزمایش این ابزار جدید، چند نمونه از مجموعه آموزش خود انتخاب می‌کنیم تا با هم در یک <strong>batch</strong> قرار دهیم. در اینجا ستون‌های <code>idx</code>، <code>sentence1</code> و <code>sentence2</code> را حذف می‌کنیم، زیرا نیازی به آن‌ها نداریم و حاوی رشته هستند (و نمی‌توان تنسور از رشته‌ها ساخت). سپس طول هر نمونه در <strong>batch</strong> را بررسی می‌کنیم.\n",
        "  </p>\n",
        "</div>\n"
      ],
      "metadata": {
        "id": "8Cq_brgU7bsx"
      }
    },
    {
      "cell_type": "code",
      "execution_count": 53,
      "metadata": {
        "colab": {
          "base_uri": "https://localhost:8080/"
        },
        "id": "2N7uyZgIKw4c",
        "outputId": "5e83a462-ea99-440c-ef4e-e20974bc1054"
      },
      "outputs": [
        {
          "output_type": "execute_result",
          "data": {
            "text/plain": [
              "[50, 59, 47, 67, 59, 50, 62, 32]"
            ]
          },
          "metadata": {},
          "execution_count": 53
        }
      ],
      "source": [
        "samples = tokenized_datasets[\"train\"][:8]\n",
        "samples = {k: v for k, v in samples.items() if k not in [\"idx\", \"sentence1\", \"sentence2\"]}\n",
        "[len(x) for x in samples[\"input_ids\"]]"
      ]
    },
    {
      "cell_type": "markdown",
      "source": [
        "<div dir=\"rtl\">\n",
        "  <p>\n",
        "    غیرمنتظره نیست که نمونه‌ها طول‌های متفاوتی دارند، از ۳۲ تا ۶۷. <strong>Dynamic padding</strong> یعنی نمونه‌های این <strong>batch</strong> باید همه تا طول ۶۷ (بیشترین طول در این batch) پر شوند. بدون dynamic padding، همه نمونه‌ها باید تا بیشترین طول کل مجموعه داده یا بیشترین طول قابل قبول مدل پر می‌شدند. حالا بیایید بررسی کنیم که <code>data_collator</code> ما به درستی <strong>batch</strong> را به‌صورت دینامیک پر می‌کند:\n",
        "  </p>\n",
        "</div>\n"
      ],
      "metadata": {
        "id": "tnz0fAEN9LNw"
      }
    },
    {
      "cell_type": "code",
      "execution_count": 54,
      "metadata": {
        "colab": {
          "base_uri": "https://localhost:8080/"
        },
        "id": "LoVAPixhKw4c",
        "outputId": "0ca4323d-8984-4b6e-d71c-0dc4ea77effd"
      },
      "outputs": [
        {
          "output_type": "execute_result",
          "data": {
            "text/plain": [
              "{'input_ids': torch.Size([8, 67]),\n",
              " 'token_type_ids': torch.Size([8, 67]),\n",
              " 'attention_mask': torch.Size([8, 67]),\n",
              " 'labels': torch.Size([8])}"
            ]
          },
          "metadata": {},
          "execution_count": 54
        }
      ],
      "source": [
        "batch = data_collator(samples)\n",
        "{k: v.shape for k, v in batch.items()}"
      ]
    },
    {
      "cell_type": "markdown",
      "source": [
        "<div dir=\"rtl\">\n",
        "  <p>\n",
        "     حالا که از متن خام به <strong>batch</strong>هایی رسیدیم که مدل ما می‌تواند با آن‌ها کار کند، آماده‌ایم تا مدل را <strong>fine-tune</strong> کنیم!\n",
        "  </p>\n",
        "</div>\n"
      ],
      "metadata": {
        "id": "wghGhCxe9U2Y"
      }
    }
  ],
  "metadata": {
    "colab": {
      "name": "Processing the data (PyTorch)",
      "provenance": [],
      "include_colab_link": true
    },
    "language_info": {
      "name": "python"
    },
    "kernelspec": {
      "name": "python3",
      "display_name": "Python 3"
    },
    "widgets": {
      "application/vnd.jupyter.widget-state+json": {
        "b7edc50b24014c77ae855b10f01e0de2": {
          "model_module": "@jupyter-widgets/controls",
          "model_name": "HBoxModel",
          "model_module_version": "1.5.0",
          "state": {
            "_dom_classes": [],
            "_model_module": "@jupyter-widgets/controls",
            "_model_module_version": "1.5.0",
            "_model_name": "HBoxModel",
            "_view_count": null,
            "_view_module": "@jupyter-widgets/controls",
            "_view_module_version": "1.5.0",
            "_view_name": "HBoxView",
            "box_style": "",
            "children": [
              "IPY_MODEL_7a850154e2074388b3d5651ef7004dec",
              "IPY_MODEL_2dd390d8d4fa4aa18df68c3c6af8c288",
              "IPY_MODEL_840e9a5fe90f4688b30a13411973108d"
            ],
            "layout": "IPY_MODEL_fd424924477948fdb1ad933bda700457"
          }
        },
        "7a850154e2074388b3d5651ef7004dec": {
          "model_module": "@jupyter-widgets/controls",
          "model_name": "HTMLModel",
          "model_module_version": "1.5.0",
          "state": {
            "_dom_classes": [],
            "_model_module": "@jupyter-widgets/controls",
            "_model_module_version": "1.5.0",
            "_model_name": "HTMLModel",
            "_view_count": null,
            "_view_module": "@jupyter-widgets/controls",
            "_view_module_version": "1.5.0",
            "_view_name": "HTMLView",
            "description": "",
            "description_tooltip": null,
            "layout": "IPY_MODEL_64af382dc74246a590b77916a8f0caf1",
            "placeholder": "​",
            "style": "IPY_MODEL_003d2d36f2754659beeecb09ebdf69ae",
            "value": "Map: 100%"
          }
        },
        "2dd390d8d4fa4aa18df68c3c6af8c288": {
          "model_module": "@jupyter-widgets/controls",
          "model_name": "FloatProgressModel",
          "model_module_version": "1.5.0",
          "state": {
            "_dom_classes": [],
            "_model_module": "@jupyter-widgets/controls",
            "_model_module_version": "1.5.0",
            "_model_name": "FloatProgressModel",
            "_view_count": null,
            "_view_module": "@jupyter-widgets/controls",
            "_view_module_version": "1.5.0",
            "_view_name": "ProgressView",
            "bar_style": "success",
            "description": "",
            "description_tooltip": null,
            "layout": "IPY_MODEL_2005f5c39d3f4ea08d51d8a02ee2698a",
            "max": 408,
            "min": 0,
            "orientation": "horizontal",
            "style": "IPY_MODEL_e1a3e70b573c43d9945be95ecf38f2e3",
            "value": 408
          }
        },
        "840e9a5fe90f4688b30a13411973108d": {
          "model_module": "@jupyter-widgets/controls",
          "model_name": "HTMLModel",
          "model_module_version": "1.5.0",
          "state": {
            "_dom_classes": [],
            "_model_module": "@jupyter-widgets/controls",
            "_model_module_version": "1.5.0",
            "_model_name": "HTMLModel",
            "_view_count": null,
            "_view_module": "@jupyter-widgets/controls",
            "_view_module_version": "1.5.0",
            "_view_name": "HTMLView",
            "description": "",
            "description_tooltip": null,
            "layout": "IPY_MODEL_04d8ead28383443d8a45829bc18d3b69",
            "placeholder": "​",
            "style": "IPY_MODEL_af3512bf061a4af3aafea95685a1bb13",
            "value": " 408/408 [00:00&lt;00:00, 3181.45 examples/s]"
          }
        },
        "fd424924477948fdb1ad933bda700457": {
          "model_module": "@jupyter-widgets/base",
          "model_name": "LayoutModel",
          "model_module_version": "1.2.0",
          "state": {
            "_model_module": "@jupyter-widgets/base",
            "_model_module_version": "1.2.0",
            "_model_name": "LayoutModel",
            "_view_count": null,
            "_view_module": "@jupyter-widgets/base",
            "_view_module_version": "1.2.0",
            "_view_name": "LayoutView",
            "align_content": null,
            "align_items": null,
            "align_self": null,
            "border": null,
            "bottom": null,
            "display": null,
            "flex": null,
            "flex_flow": null,
            "grid_area": null,
            "grid_auto_columns": null,
            "grid_auto_flow": null,
            "grid_auto_rows": null,
            "grid_column": null,
            "grid_gap": null,
            "grid_row": null,
            "grid_template_areas": null,
            "grid_template_columns": null,
            "grid_template_rows": null,
            "height": null,
            "justify_content": null,
            "justify_items": null,
            "left": null,
            "margin": null,
            "max_height": null,
            "max_width": null,
            "min_height": null,
            "min_width": null,
            "object_fit": null,
            "object_position": null,
            "order": null,
            "overflow": null,
            "overflow_x": null,
            "overflow_y": null,
            "padding": null,
            "right": null,
            "top": null,
            "visibility": null,
            "width": null
          }
        },
        "64af382dc74246a590b77916a8f0caf1": {
          "model_module": "@jupyter-widgets/base",
          "model_name": "LayoutModel",
          "model_module_version": "1.2.0",
          "state": {
            "_model_module": "@jupyter-widgets/base",
            "_model_module_version": "1.2.0",
            "_model_name": "LayoutModel",
            "_view_count": null,
            "_view_module": "@jupyter-widgets/base",
            "_view_module_version": "1.2.0",
            "_view_name": "LayoutView",
            "align_content": null,
            "align_items": null,
            "align_self": null,
            "border": null,
            "bottom": null,
            "display": null,
            "flex": null,
            "flex_flow": null,
            "grid_area": null,
            "grid_auto_columns": null,
            "grid_auto_flow": null,
            "grid_auto_rows": null,
            "grid_column": null,
            "grid_gap": null,
            "grid_row": null,
            "grid_template_areas": null,
            "grid_template_columns": null,
            "grid_template_rows": null,
            "height": null,
            "justify_content": null,
            "justify_items": null,
            "left": null,
            "margin": null,
            "max_height": null,
            "max_width": null,
            "min_height": null,
            "min_width": null,
            "object_fit": null,
            "object_position": null,
            "order": null,
            "overflow": null,
            "overflow_x": null,
            "overflow_y": null,
            "padding": null,
            "right": null,
            "top": null,
            "visibility": null,
            "width": null
          }
        },
        "003d2d36f2754659beeecb09ebdf69ae": {
          "model_module": "@jupyter-widgets/controls",
          "model_name": "DescriptionStyleModel",
          "model_module_version": "1.5.0",
          "state": {
            "_model_module": "@jupyter-widgets/controls",
            "_model_module_version": "1.5.0",
            "_model_name": "DescriptionStyleModel",
            "_view_count": null,
            "_view_module": "@jupyter-widgets/base",
            "_view_module_version": "1.2.0",
            "_view_name": "StyleView",
            "description_width": ""
          }
        },
        "2005f5c39d3f4ea08d51d8a02ee2698a": {
          "model_module": "@jupyter-widgets/base",
          "model_name": "LayoutModel",
          "model_module_version": "1.2.0",
          "state": {
            "_model_module": "@jupyter-widgets/base",
            "_model_module_version": "1.2.0",
            "_model_name": "LayoutModel",
            "_view_count": null,
            "_view_module": "@jupyter-widgets/base",
            "_view_module_version": "1.2.0",
            "_view_name": "LayoutView",
            "align_content": null,
            "align_items": null,
            "align_self": null,
            "border": null,
            "bottom": null,
            "display": null,
            "flex": null,
            "flex_flow": null,
            "grid_area": null,
            "grid_auto_columns": null,
            "grid_auto_flow": null,
            "grid_auto_rows": null,
            "grid_column": null,
            "grid_gap": null,
            "grid_row": null,
            "grid_template_areas": null,
            "grid_template_columns": null,
            "grid_template_rows": null,
            "height": null,
            "justify_content": null,
            "justify_items": null,
            "left": null,
            "margin": null,
            "max_height": null,
            "max_width": null,
            "min_height": null,
            "min_width": null,
            "object_fit": null,
            "object_position": null,
            "order": null,
            "overflow": null,
            "overflow_x": null,
            "overflow_y": null,
            "padding": null,
            "right": null,
            "top": null,
            "visibility": null,
            "width": null
          }
        },
        "e1a3e70b573c43d9945be95ecf38f2e3": {
          "model_module": "@jupyter-widgets/controls",
          "model_name": "ProgressStyleModel",
          "model_module_version": "1.5.0",
          "state": {
            "_model_module": "@jupyter-widgets/controls",
            "_model_module_version": "1.5.0",
            "_model_name": "ProgressStyleModel",
            "_view_count": null,
            "_view_module": "@jupyter-widgets/base",
            "_view_module_version": "1.2.0",
            "_view_name": "StyleView",
            "bar_color": null,
            "description_width": ""
          }
        },
        "04d8ead28383443d8a45829bc18d3b69": {
          "model_module": "@jupyter-widgets/base",
          "model_name": "LayoutModel",
          "model_module_version": "1.2.0",
          "state": {
            "_model_module": "@jupyter-widgets/base",
            "_model_module_version": "1.2.0",
            "_model_name": "LayoutModel",
            "_view_count": null,
            "_view_module": "@jupyter-widgets/base",
            "_view_module_version": "1.2.0",
            "_view_name": "LayoutView",
            "align_content": null,
            "align_items": null,
            "align_self": null,
            "border": null,
            "bottom": null,
            "display": null,
            "flex": null,
            "flex_flow": null,
            "grid_area": null,
            "grid_auto_columns": null,
            "grid_auto_flow": null,
            "grid_auto_rows": null,
            "grid_column": null,
            "grid_gap": null,
            "grid_row": null,
            "grid_template_areas": null,
            "grid_template_columns": null,
            "grid_template_rows": null,
            "height": null,
            "justify_content": null,
            "justify_items": null,
            "left": null,
            "margin": null,
            "max_height": null,
            "max_width": null,
            "min_height": null,
            "min_width": null,
            "object_fit": null,
            "object_position": null,
            "order": null,
            "overflow": null,
            "overflow_x": null,
            "overflow_y": null,
            "padding": null,
            "right": null,
            "top": null,
            "visibility": null,
            "width": null
          }
        },
        "af3512bf061a4af3aafea95685a1bb13": {
          "model_module": "@jupyter-widgets/controls",
          "model_name": "DescriptionStyleModel",
          "model_module_version": "1.5.0",
          "state": {
            "_model_module": "@jupyter-widgets/controls",
            "_model_module_version": "1.5.0",
            "_model_name": "DescriptionStyleModel",
            "_view_count": null,
            "_view_module": "@jupyter-widgets/base",
            "_view_module_version": "1.2.0",
            "_view_name": "StyleView",
            "description_width": ""
          }
        }
      }
    }
  },
  "nbformat": 4,
  "nbformat_minor": 0
}